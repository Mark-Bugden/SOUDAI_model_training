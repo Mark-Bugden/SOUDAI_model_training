{
 "cells": [
  {
   "cell_type": "code",
   "execution_count": null,
   "id": "d6ff5daa",
   "metadata": {},
   "outputs": [],
   "source": [
    "import pandas as pd\n",
    "import matplotlib.pyplot as plt\n",
    "\n",
    "import torch\n",
    "import math\n",
    "\n",
    "from pathlib import Path\n",
    "\n",
    "import training.training_config as cfg\n",
    "from config import RUNS_PATH, PROCESSED_CSV_PATH\n",
    "from training.data import make_dataloaders\n",
    "from training.io import load_or_prepare_encoded\n",
    "from training.models import DecisionRegressor\n",
    "from training.trainer import Trainer\n",
    "from utils import get_logger, prepare_run_dir, save_json"
   ]
  },
  {
   "cell_type": "code",
   "execution_count": null,
   "id": "beddeead",
   "metadata": {},
   "outputs": [],
   "source": [
    "logger = get_logger(\"train\", cfg.LOG_LEVEL, cfg.USE_LOGGING)"
   ]
  },
  {
   "cell_type": "code",
   "execution_count": null,
   "id": "672f37c2",
   "metadata": {},
   "outputs": [],
   "source": [
    "# Prepare a timestamped run directory under the global RUNS_DIR\n",
    "run_dir = prepare_run_dir(RUNS_PATH)\n",
    "if logger:\n",
    "    logger.info(\"Run directory: %s\", str(run_dir))"
   ]
  },
  {
   "cell_type": "code",
   "execution_count": null,
   "id": "02066569",
   "metadata": {},
   "outputs": [],
   "source": [
    "# Data\n",
    "df_train, df_eval, df_test, vocab_sizes = load_or_prepare_encoded(\n",
    "    force_rebuild=cfg.FORCE_REBUILD,\n",
    "    logger=logger,\n",
    ")"
   ]
  },
  {
   "cell_type": "code",
   "execution_count": null,
   "id": "547f7f55",
   "metadata": {},
   "outputs": [],
   "source": [
    "train_dl, eval_dl, test_dl = make_dataloaders(\n",
    "    df_train=df_train,\n",
    "    df_eval=df_eval,\n",
    "    df_test=df_test,\n",
    "    batch_size=cfg.BATCH_SIZE,\n",
    "    num_workers=cfg.NUM_WORKERS,\n",
    "    pin_memory=cfg.PIN_MEMORY,\n",
    "    logger=logger,\n",
    ")"
   ]
  },
  {
   "cell_type": "code",
   "execution_count": null,
   "id": "1791e96d",
   "metadata": {},
   "outputs": [],
   "source": [
    "# Model\n",
    "model = DecisionRegressor(\n",
    "    vocab_sizes=vocab_sizes,\n",
    "    embed_dim_single=cfg.EMBED_DIM_SINGLE,\n",
    "    embed_dim_multi=cfg.EMBED_DIM_MULTI,\n",
    "    hidden=cfg.HIDDEN,\n",
    "    dropout=cfg.DROPOUT,\n",
    ")"
   ]
  },
  {
   "cell_type": "code",
   "execution_count": null,
   "id": "802ebe9e",
   "metadata": {},
   "outputs": [],
   "source": [
    "# Save a minimal config snapshot for reproducibility\n",
    "cfg_snapshot = {\n",
    "    \"batch_size\": cfg.BATCH_SIZE,\n",
    "    \"num_workers\": cfg.NUM_WORKERS,\n",
    "    \"pin_memory\": cfg.PIN_MEMORY,\n",
    "    \"epochs\": cfg.EPOCHS,\n",
    "    \"lr\": cfg.LR,\n",
    "    \"weight_decay\": cfg.WEIGHT_DECAY,\n",
    "    \"device\": cfg.DEVICE,\n",
    "    \"use_huber\": cfg.USE_HUBER,\n",
    "    \"embed_dim_single\": cfg.EMBED_DIM_SINGLE,\n",
    "    \"embed_dim_multi\": cfg.EMBED_DIM_MULTI,\n",
    "    \"hidden\": list(cfg.HIDDEN),\n",
    "    \"dropout\": cfg.DROPOUT,\n",
    "    \"vocab_sizes\": vocab_sizes,\n",
    "}\n",
    "save_json(run_dir / \"config_snapshot.json\", cfg_snapshot)"
   ]
  },
  {
   "cell_type": "code",
   "execution_count": null,
   "id": "10b92bd8",
   "metadata": {},
   "outputs": [],
   "source": [
    "# Trainer\n",
    "trainer = Trainer(\n",
    "    model,\n",
    "    lr=cfg.LR,\n",
    "    weight_decay=cfg.WEIGHT_DECAY,\n",
    "    device=cfg.DEVICE,\n",
    "    use_huber=cfg.USE_HUBER,\n",
    "    logger=logger,\n",
    "    run_dir=run_dir,\n",
    "    save_best=cfg.SAVE_BEST,\n",
    ")"
   ]
  },
  {
   "cell_type": "code",
   "execution_count": null,
   "id": "9607db18",
   "metadata": {},
   "outputs": [],
   "source": [
    "# Train\n",
    "metrics = trainer.fit(\n",
    "    train_dl=train_dl,\n",
    "    val_dl=eval_dl,\n",
    "    epochs=cfg.EPOCHS,\n",
    ")"
   ]
  },
  {
   "cell_type": "code",
   "execution_count": null,
   "id": "d2478c3d",
   "metadata": {},
   "outputs": [],
   "source": [
    "run_dir = Path(\"/home/mark/code/SOUDAI_model_training/runs/20250809-162109\")\n",
    "history_path = run_dir / \"metrics.csv\"\n",
    "\n",
    "df = pd.read_csv(history_path)\n",
    "\n",
    "plt.figure(figsize=(8, 5))\n",
    "plt.plot(df[\"epoch\"], df[\"train_loss\"], label=\"Train Loss\")\n",
    "plt.plot(df[\"epoch\"], df[\"val_loss\"], label=\"Validation Loss\")\n",
    "plt.xlabel(\"Epoch\")\n",
    "plt.ylabel(\"Loss\")\n",
    "plt.title(\"Training and Validation Loss Over Time\")\n",
    "plt.legend()\n",
    "plt.grid(True)\n",
    "plt.show()\n"
   ]
  },
  {
   "cell_type": "code",
   "execution_count": null,
   "id": "faa4daa9",
   "metadata": {},
   "outputs": [],
   "source": []
  }
 ],
 "metadata": {
  "kernelspec": {
   "display_name": "soudai-model-training-py3.12",
   "language": "python",
   "name": "python3"
  },
  "language_info": {
   "codemirror_mode": {
    "name": "ipython",
    "version": 3
   },
   "file_extension": ".py",
   "mimetype": "text/x-python",
   "name": "python",
   "nbconvert_exporter": "python",
   "pygments_lexer": "ipython3",
   "version": "3.12.3"
  }
 },
 "nbformat": 4,
 "nbformat_minor": 5
}
